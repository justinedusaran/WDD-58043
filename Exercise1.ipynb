{
  "cells": [
    {
      "cell_type": "markdown",
      "metadata": {
        "id": "view-in-github",
        "colab_type": "text"
      },
      "source": [
        "<a href=\"https://colab.research.google.com/github/justinedusaran/WDD-58043/blob/main/Exercise1.ipynb\" target=\"_parent\"><img src=\"https://colab.research.google.com/assets/colab-badge.svg\" alt=\"Open In Colab\"/></a>"
      ]
    },
    {
      "cell_type": "markdown",
      "source": [
        "defining 'pi'"
      ],
      "metadata": {
        "id": "H4gR72MUyn1K"
      }
    },
    {
      "cell_type": "code",
      "execution_count": null,
      "metadata": {
        "colab": {
          "base_uri": "https://localhost:8080/"
        },
        "id": "YWFhBud3lTFb",
        "outputId": "d532df3d-8fd2-46d7-d9c9-d0c1f200d2fa"
      },
      "outputs": [
        {
          "name": "stdout",
          "output_type": "stream",
          "text": [
            "The area of circle is 78.5\n"
          ]
        }
      ],
      "source": [
        "pi = 3.14\n",
        "r = 5\n",
        "area = pi*pow(r,2)\n",
        "print('The area of circle is', area)"
      ]
    },
    {
      "cell_type": "markdown",
      "source": [
        "using 'import math'"
      ],
      "metadata": {
        "id": "9aXVtwIryjzZ"
      }
    },
    {
      "cell_type": "code",
      "execution_count": null,
      "metadata": {
        "colab": {
          "base_uri": "https://localhost:8080/"
        },
        "id": "uY64uRXVoTie",
        "outputId": "1c72cb77-5a26-4771-9c35-096b18557378"
      },
      "outputs": [
        {
          "name": "stdout",
          "output_type": "stream",
          "text": [
            "The area of circle is 78.53981633974483\n"
          ]
        }
      ],
      "source": [
        "import math\n",
        "from math import pi\n",
        "\n",
        "r = 5\n",
        "area = math.pi*pow(r,2)\n",
        "print('The area of circle is', area)"
      ]
    },
    {
      "cell_type": "markdown",
      "source": [
        "using the polymorphism sample program"
      ],
      "metadata": {
        "id": "q0b-Z5cByph7"
      }
    },
    {
      "cell_type": "code",
      "execution_count": null,
      "metadata": {
        "id": "zrzx9Jk3soA7",
        "colab": {
          "base_uri": "https://localhost:8080/"
        },
        "outputId": "ceb6686d-f815-418a-b0a0-a023a0157cda"
      },
      "outputs": [
        {
          "output_type": "stream",
          "name": "stdout",
          "text": [
            "78.53981633974483\n"
          ]
        }
      ],
      "source": [
        "import math\n",
        "from math import pi\n",
        "\n",
        "class type:\n",
        "  def rad(self):\n",
        "    pass\n",
        "  def dia(self):\n",
        "    pass\n",
        "class form:\n",
        "  def __init__(self,pi,r,d):\n",
        "    self.pi = math.pi\n",
        "    self.r = r\n",
        "    self.d = d\n",
        "  def rad(self):\n",
        "    print(pi*pow(r,2))\n",
        "  def dia(self):\n",
        "    print((pi*pow(d,2))/4)\n",
        "\n",
        "rad = form(math.pi,5,7)\n",
        "rad.rad()"
      ]
    }
  ],
  "metadata": {
    "colab": {
      "name": "Exercise1.ipynb",
      "provenance": [],
      "collapsed_sections": [],
      "authorship_tag": "ABX9TyOjBemHqtxNCejHdiHGXDKg",
      "include_colab_link": true
    },
    "kernelspec": {
      "display_name": "Python 3",
      "name": "python3"
    },
    "language_info": {
      "name": "python"
    }
  },
  "nbformat": 4,
  "nbformat_minor": 0
}